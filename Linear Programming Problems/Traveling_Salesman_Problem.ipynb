{
  "nbformat": 4,
  "nbformat_minor": 0,
  "metadata": {
    "colab": {
      "provenance": []
    },
    "kernelspec": {
      "name": "python3",
      "display_name": "Python 3"
    },
    "language_info": {
      "name": "python"
    }
  },
  "cells": [
    {
      "cell_type": "code",
      "execution_count": 1,
      "metadata": {
        "id": "G5RgGGX5-QEh"
      },
      "outputs": [],
      "source": [
        "#-----------------------------#\n",
        "# Traveling Salesman Problem  #\n",
        "#-----------------------------#\n",
        "\n",
        "# Importandoa biblioteca numpy\n",
        "import numpy as np\n",
        "\n",
        "# Criando a função para calcular a distância percorrida\n",
        "\n",
        "def calc_distancia_percorrida (coordenadas, solve_caixeiro) :\n",
        "  distancia = 0\n",
        "  # Vamos percorrer a solução dada e vamos calcular a distância percorrida, pautando-se na origem e no destino,\n",
        "  # de acordo com as matriz de coordenadas\n",
        "  for i in range( len(solve_caixeiro) - 1 ) :\n",
        "    origem = solve_caixeiro[i]\n",
        "    destino = solve_caixeiro[i + 1]\n",
        "    # Vamos ir somando a distância percorrida, de acordo com a origem e destino\n",
        "    distancia += coordenadas[origem, destino]\n",
        "\n",
        "  # Vamos acrescentar para fechar o nosso ciclo, a distância entre a origem e a última cidade visitada\n",
        "  distancia += coordenadas[solve_caixeiro[-1], solve_caixeiro[0]]\n",
        "\n",
        "  return distancia"
      ]
    },
    {
      "cell_type": "code",
      "source": [
        "# Vamos receber as instâncias do nosso problema\n",
        "\n",
        "# Recebendo a Matriz de coordenadas\n",
        "coordenadas = np.array([[0, 12, 7, 9, 8],\n",
        "                        [12, 0, 11, 7, 6],\n",
        "                        [7, 11, 0, 12, 13],\n",
        "                        [9, 7, 12, 0, 8],\n",
        "                        [8, 6, 13, 8, 0]])\n",
        "\n",
        "# Recebendo a Solução\n",
        "solve_caixeiro = [1, 0, 3, 4, 2]"
      ],
      "metadata": {
        "id": "tTfj7188-qC2"
      },
      "execution_count": 2,
      "outputs": []
    },
    {
      "cell_type": "code",
      "source": [
        "# Conferindo os dados\n",
        "\n",
        "# Checkando a matriz de coordenadas\n",
        "print(coordenadas)\n",
        "\n",
        "print()\n",
        "\n",
        "# Verificando a lista de solução\n",
        "print(solve_caixeiro)"
      ],
      "metadata": {
        "colab": {
          "base_uri": "https://localhost:8080/"
        },
        "id": "g14WKn2f-tnb",
        "outputId": "b85d0568-d511-47ea-ca69-e665a1c1b977"
      },
      "execution_count": 3,
      "outputs": [
        {
          "output_type": "stream",
          "name": "stdout",
          "text": [
            "[[ 0 12  7  9  8]\n",
            " [12  0 11  7  6]\n",
            " [ 7 11  0 12 13]\n",
            " [ 9  7 12  0  8]\n",
            " [ 8  6 13  8  0]]\n",
            "\n",
            "[1, 0, 3, 4, 2]\n"
          ]
        }
      ]
    },
    {
      "cell_type": "code",
      "source": [
        "# Vamos calcular a distância percorrida\n",
        "dist_percorrida = calc_distancia_percorrida (coordenadas, solve_caixeiro)\n",
        "\n",
        "# Exibindo os dados finais\n",
        "print(f\"Dada a solução : {solve_caixeiro}\\nTeremos a Distância Percorrida de : {dist_percorrida}\")"
      ],
      "metadata": {
        "id": "TKJHGzNe-wmX",
        "outputId": "14b48e44-d308-4e81-d6ff-f034cad072d5",
        "colab": {
          "base_uri": "https://localhost:8080/"
        }
      },
      "execution_count": 4,
      "outputs": [
        {
          "output_type": "stream",
          "name": "stdout",
          "text": [
            "Dada a solução : [1, 0, 3, 4, 2]\n",
            "Teremos a Distância Percorrida de : 53\n"
          ]
        }
      ]
    }
  ]
}