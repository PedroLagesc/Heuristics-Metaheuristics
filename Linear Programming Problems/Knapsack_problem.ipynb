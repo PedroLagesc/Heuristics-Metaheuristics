{
  "nbformat": 4,
  "nbformat_minor": 0,
  "metadata": {
    "colab": {
      "provenance": []
    },
    "kernelspec": {
      "name": "python3",
      "display_name": "Python 3"
    },
    "language_info": {
      "name": "python"
    }
  },
  "cells": [
    {
      "cell_type": "code",
      "execution_count": 1,
      "metadata": {
        "id": "7-dNEKeH85k1"
      },
      "outputs": [],
      "source": [
        "#-----------------------#\n",
        "#   Knapsack Problem    #\n",
        "#-----------------------#\n",
        "\n",
        "# Vamos criar as funções para facilitar nosso problema - dividir para conquistar\n",
        "\n",
        "# Função para calcular o benefício total\n",
        "def calc_beneficio_tot (objeto, beneficio, peso, solve):\n",
        "    beneficio_tot = 0\n",
        "    # Vamos percorrer a lista de solução referente ao tamanho do nosso objeto\n",
        "    for i in range( len(objeto) ):\n",
        "    # De acordo com a solve passada pelo usuiário, se o objeto for escolhido, seu benefício será somado\n",
        "        if solve[i] == 1:\n",
        "            beneficio_tot += beneficio[i]\n",
        "\n",
        "    return beneficio_tot"
      ]
    },
    {
      "cell_type": "code",
      "source": [
        "# Função para calcular o peso e a viabilidade da nossa solução\n",
        "def calc_peso_viabilidade (objeto, beneficio, peso, solve, capacidade):\n",
        "\n",
        "    peso_total = 0\n",
        "    # Vamos percorrer a solução referente ao tamanho do objeto, caso o item for selecionado, seu peso será somado\n",
        "    for i in range( len(objeto) ):\n",
        "        if solve[i] == 1:\n",
        "            peso_total += peso[i]\n",
        "\n",
        "    # Caso peso total <= capacidade - solução viável e True será retornado, caso contrário será retornado False devido à inviabilidade\n",
        "    viabilidade = peso_total <= capacidade\n",
        "\n",
        "    # Prints para notificar a viabilidade do problema\n",
        "    if viabilidade :\n",
        "      print (\"A solucao é viavel\")\n",
        "    else:\n",
        "      print (\"Solucao inviavel - capacidade excedida\")\n",
        "\n",
        "    return peso_total, viabilidade"
      ],
      "metadata": {
        "id": "hbSx0AKc9ZFH"
      },
      "execution_count": 2,
      "outputs": []
    },
    {
      "cell_type": "code",
      "source": [
        "# Vamos declarar as instâncias do nosso problema\n",
        "\n",
        "objeto = [0, 1, 2, 3, 4, 5, 6, 7]\n",
        "beneficio = [4, 3, 2, 6, 2, 3, 5, 4]\n",
        "peso = [5, 4, 3, 9, 4, 2, 6, 7]\n",
        "capacidade = 20\n",
        "\n",
        "# Caso a solução for inseridad de modo manual descomente a linha a baixo,\n",
        "# e comente o procedimento de preenchimento da lista de soluções\n",
        "# solve = [1, 0, 1, 1, 1, 0, 1, 0] # Descomente caso queira utilizar a solução de modo manual sem inputs\n",
        "\n",
        "# Criando uma lista vazia de solução\n",
        "solve = []\n",
        "\n",
        "# Preenchendo a lista de solução com os inputs do usuário, utilizando a função append para incrementar a nossa solve\n",
        "for i in range( len(objeto) ):\n",
        "  # Serão selecionados apenas valores inteiros como resposta\n",
        "  select = int(input(f\" {objeto[i]} - 1 Escolher o objeto / 0 Deixar o objeto \"))\n",
        "  solve.append(select)"
      ],
      "metadata": {
        "colab": {
          "base_uri": "https://localhost:8080/"
        },
        "id": "Nf-Eg7BT9dGw",
        "outputId": "549bf27b-918c-4d75-f4e9-40f01bbf56f9"
      },
      "execution_count": 3,
      "outputs": [
        {
          "name": "stdout",
          "output_type": "stream",
          "text": [
            " 0 - 1 Escolher o objeto / 0 Deixar o objeto 1\n",
            " 1 - 1 Escolher o objeto / 0 Deixar o objeto 0\n",
            " 2 - 1 Escolher o objeto / 0 Deixar o objeto 1\n",
            " 3 - 1 Escolher o objeto / 0 Deixar o objeto 1\n",
            " 4 - 1 Escolher o objeto / 0 Deixar o objeto 1\n",
            " 5 - 1 Escolher o objeto / 0 Deixar o objeto 0\n",
            " 6 - 1 Escolher o objeto / 0 Deixar o objeto 1\n",
            " 7 - 1 Escolher o objeto / 0 Deixar o objeto 0\n"
          ]
        }
      ]
    },
    {
      "cell_type": "code",
      "source": [
        "# verificando o vetor solve para ver se foi preenchido corretamente\n",
        "print(solve)"
      ],
      "metadata": {
        "colab": {
          "base_uri": "https://localhost:8080/"
        },
        "id": "BiflNAQl9m8t",
        "outputId": "0e5c322d-2473-4a34-8ddb-3899421d889d"
      },
      "execution_count": 4,
      "outputs": [
        {
          "output_type": "stream",
          "name": "stdout",
          "text": [
            "[1, 0, 1, 1, 1, 0, 1, 0]\n"
          ]
        }
      ]
    },
    {
      "cell_type": "code",
      "source": [
        "# vamos chamar nossas funções para realizar os calculos do beneficio total, peso total e viabilidade\n",
        "beneficio_final = calc_beneficio_tot (objeto, beneficio, peso, solve)\n",
        "peso_final , viabilidade = calc_peso_viabilidade (objeto, beneficio, peso, solve, capacidade)"
      ],
      "metadata": {
        "colab": {
          "base_uri": "https://localhost:8080/"
        },
        "id": "crlSjxbm9rPC",
        "outputId": "97c852c3-89a4-4026-98e2-ce55d8752129"
      },
      "execution_count": 5,
      "outputs": [
        {
          "output_type": "stream",
          "name": "stdout",
          "text": [
            "Solucao inviavel - capacidade excedida\n"
          ]
        }
      ]
    },
    {
      "cell_type": "code",
      "source": [
        "# Agora que sabemos que a solução é viável vamos exibir os dados desta solução\n",
        "print(f\"Dada a solução {solve} \\nTemos:\\nPeso Total:{peso_final}\\nBenefício Total:{beneficio_final}\")"
      ],
      "metadata": {
        "id": "GW96XT6c9vkh",
        "outputId": "846a2d70-c1ce-46ce-bea9-95a931ba0447",
        "colab": {
          "base_uri": "https://localhost:8080/"
        }
      },
      "execution_count": 6,
      "outputs": [
        {
          "output_type": "stream",
          "name": "stdout",
          "text": [
            "Dada a solução [1, 0, 1, 1, 1, 0, 1, 0] \n",
            "Temos:\n",
            "Peso Total:27\n",
            "Benefício Total:19\n"
          ]
        }
      ]
    }
  ]
}