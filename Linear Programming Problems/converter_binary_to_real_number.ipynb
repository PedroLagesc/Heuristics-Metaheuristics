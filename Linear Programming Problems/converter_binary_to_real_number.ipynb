{
  "nbformat": 4,
  "nbformat_minor": 0,
  "metadata": {
    "colab": {
      "provenance": []
    },
    "kernelspec": {
      "name": "python3",
      "display_name": "Python 3"
    },
    "language_info": {
      "name": "python"
    }
  },
  "cells": [
    {
      "cell_type": "code",
      "execution_count": 1,
      "metadata": {
        "id": "9ED0HG6y8FhG"
      },
      "outputs": [],
      "source": [
        "#----------------------------#\n",
        "# Binary to Real - Converter #\n",
        "#----------------------------#\n",
        "\n",
        "# Definindo a função de conversão do Vetor Binário para Um valor Real\n",
        "def bin_2_real(vet_bin, limites):\n",
        "\n",
        "    # Calculando o tamanho do vetor binario\n",
        "    n = len(vet_bin)\n",
        "\n",
        "    # Recebendo os limites - O usuário irá passar futuramente os limites no formato de Tupla (Lim Sup, Lim Inf)\n",
        "    max_limit , min_limit = limites\n",
        "\n",
        "    # Calculando a precisão\n",
        "    e = ( (max_limit - min_limit) / ((2**n) - 1))\n",
        "    soma = 0\n",
        "\n",
        "    # For para calcular a expressão percorrendo o vetor de tamanho n\n",
        "    for i in range(n):\n",
        "      soma += vet_bin[i] * (2**(n-1-i))\n",
        "\n",
        "    # Cálculo final da expressão resultando em um valor decodificado\n",
        "    valor_decod = min_limit + (soma * e)\n",
        "\n",
        "\n",
        "    return valor_decod"
      ]
    },
    {
      "cell_type": "code",
      "source": [
        "# Recebendo os valores\n",
        "\n",
        "# Vetor binário\n",
        "vet_bin = [1,1,1,0,1,0,0,0,1,0]\n",
        "# Limites\n",
        "limites = (5 , -5)\n",
        "\n",
        "# Chamando a função para decodificar o vetor\n",
        "valor_decodificado = bin_2_real(vet_bin, limites)\n",
        "print(valor_decodificado)"
      ],
      "metadata": {
        "colab": {
          "base_uri": "https://localhost:8080/"
        },
        "id": "gLXrVzKs8maT",
        "outputId": "0618f62a-213d-4d7a-d893-fe118f80ab6e"
      },
      "execution_count": 3,
      "outputs": [
        {
          "output_type": "stream",
          "name": "stdout",
          "text": [
            "4.090909090909092\n"
          ]
        }
      ]
    },
    {
      "cell_type": "code",
      "source": [],
      "metadata": {
        "id": "ajHo6hnA8pR7"
      },
      "execution_count": null,
      "outputs": []
    }
  ]
}