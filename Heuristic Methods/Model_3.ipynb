{
  "nbformat": 4,
  "nbformat_minor": 0,
  "metadata": {
    "colab": {
      "provenance": []
    },
    "kernelspec": {
      "name": "python3",
      "display_name": "Python 3"
    },
    "language_info": {
      "name": "python"
    }
  },
  "cells": [
    {
      "cell_type": "code",
      "source": [
        "# Modelo 3 - Exercício 3\n",
        "\n",
        "# Importando a biblioteca Math\n",
        "import math"
      ],
      "metadata": {
        "id": "Jj3DR2Bsd6Y3"
      },
      "execution_count": 1,
      "outputs": []
    },
    {
      "cell_type": "code",
      "execution_count": 2,
      "metadata": {
        "id": "1GxhwlR2cVsN"
      },
      "outputs": [],
      "source": [
        "# Implementação da Função f(x)\n",
        "\n",
        "def calc_cos (x) :\n",
        "  pi = 3.14159265358979323846\n",
        "  fx = (x**2) - (math.cos(4 * pi * x))\n",
        "  return fx"
      ]
    },
    {
      "cell_type": "code",
      "source": [
        "#  Algoritmo Heurístico de Minimização\n",
        "def dummy_min (a, b, e) :\n",
        "  x = a\n",
        "  f_starr = calc_cos(x)\n",
        "  x_starr = x\n",
        "\n",
        "  while x < b :\n",
        "    x = x + e\n",
        "    f = calc_cos(x)\n",
        "\n",
        "    if f < f_starr :\n",
        "      f_starr = f\n",
        "      x_starr = x\n",
        "    #else\n",
        "     # break\n",
        "  print ('f(x)', f_starr , 'X', x_starr)"
      ],
      "metadata": {
        "id": "z6RBMTGuedUT"
      },
      "execution_count": 3,
      "outputs": []
    },
    {
      "cell_type": "code",
      "source": [
        "# Rodando o algoritmo\n",
        "# Para a = -5 | b = 5 | e = 0.001\n",
        "dummy_min(-5 , 5 , 0.001)"
      ],
      "metadata": {
        "colab": {
          "base_uri": "https://localhost:8080/"
        },
        "id": "tHnOJQhgf_8R",
        "outputId": "9e33092c-07f3-475d-eb15-92cfcc602c2c"
      },
      "execution_count": 4,
      "outputs": [
        {
          "output_type": "stream",
          "name": "stdout",
          "text": [
            "f(x) -1.0 X 4.100886297209172e-15\n"
          ]
        }
      ]
    },
    {
      "cell_type": "code",
      "source": [
        "#  Algoritmo Heurístico de Minimização com Break\n",
        "def dummy_min_break (a, b, e) :\n",
        "  x = a\n",
        "  f_starr = calc_cos(x)\n",
        "  x_starr = x\n",
        "\n",
        "  while x < b :\n",
        "    x = x + e\n",
        "    f = calc_cos(x)\n",
        "\n",
        "    if f < f_starr :\n",
        "      f_starr = f\n",
        "      x_starr = x\n",
        "    # Condição adicionada - o algoritmo se encerra ao encontrar a solução plausível\n",
        "    else:\n",
        "      break\n",
        "\n",
        "  print ('f(x)', f_starr , 'X', x_starr)"
      ],
      "metadata": {
        "id": "tVx3fxxmgu3b"
      },
      "execution_count": 7,
      "outputs": []
    },
    {
      "cell_type": "code",
      "source": [
        "# Rodando o algoritmo com a função break para verificar a nova solução\n",
        "# Pode-se notar que o tempo de execução foi menor, e a solução se alterou\n",
        "# Para a = -5 | b = 5 | e = 0.001\n",
        "dummy_min_break(-5 , 5 , 0.001)"
      ],
      "metadata": {
        "colab": {
          "base_uri": "https://localhost:8080/"
        },
        "id": "ppQS0sgiiMwA",
        "outputId": "69117363-231d-43d6-95f9-610dc878f8f2"
      },
      "execution_count": 9,
      "outputs": [
        {
          "output_type": "stream",
          "name": "stdout",
          "text": [
            "f(x) 23.667324386909666 X -4.927999999999976\n"
          ]
        }
      ]
    }
  ]
}