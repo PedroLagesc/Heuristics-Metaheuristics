{
  "nbformat": 4,
  "nbformat_minor": 0,
  "metadata": {
    "colab": {
      "provenance": []
    },
    "kernelspec": {
      "name": "python3",
      "display_name": "Python 3"
    },
    "language_info": {
      "name": "python"
    }
  },
  "cells": [
    {
      "cell_type": "code",
      "execution_count": 3,
      "metadata": {
        "id": "-MKZcy0kTm_Q"
      },
      "outputs": [],
      "source": [
        "# Modelo 2 - Exercício 1\n",
        "\n",
        "# Importando a biblioteca Math\n",
        "import math\n",
        "\n",
        "# Função F(x)\n",
        "def min_area (x) :\n",
        "  result = 100000 * (10-x) + 200000 *  (math.sqrt(36 + x**2))\n",
        "  return result"
      ]
    },
    {
      "cell_type": "code",
      "source": [
        "#  Algoritmo Heurístico de Minimização\n",
        "\n",
        "def dummy_min (a, b, e) :\n",
        "  x = a\n",
        "  f_starr = min_area(x)\n",
        "  x_starr = x\n",
        "\n",
        "  while x < b :\n",
        "    x = x + e\n",
        "    f = min_area(x)\n",
        "\n",
        "    if f < f_starr :\n",
        "      f_starr = f\n",
        "      x_starr = x\n",
        "    #else\n",
        "     # break\n",
        "  print ('Area Minima', f_starr , 'Altura', x_starr)"
      ],
      "metadata": {
        "id": "9nlJ_to0Vfbg"
      },
      "execution_count": 4,
      "outputs": []
    },
    {
      "cell_type": "code",
      "source": [
        "# Rodando o algoritmo\n",
        "# Para a = 0 | b = 10 | e = 0.1\n",
        "dummy_min(0 , 10 , 0.1)"
      ],
      "metadata": {
        "colab": {
          "base_uri": "https://localhost:8080/"
        },
        "id": "W05NrisnV5q_",
        "outputId": "09f23274-ad69-4f8d-9f73-48f200b69c2f"
      },
      "execution_count": 6,
      "outputs": [
        {
          "output_type": "stream",
          "name": "stdout",
          "text": [
            "Area Minima 2039244.3989449802 Altura 3.5000000000000018\n"
          ]
        }
      ]
    }
  ]
}