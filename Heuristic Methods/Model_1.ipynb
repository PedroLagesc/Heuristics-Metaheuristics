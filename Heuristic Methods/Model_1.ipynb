{
  "nbformat": 4,
  "nbformat_minor": 0,
  "metadata": {
    "colab": {
      "provenance": []
    },
    "kernelspec": {
      "name": "python3",
      "display_name": "Python 3"
    },
    "language_info": {
      "name": "python"
    }
  },
  "cells": [
    {
      "cell_type": "code",
      "execution_count": 2,
      "metadata": {
        "id": "UliL9k5fX4cf"
      },
      "outputs": [],
      "source": [
        "# Modelo 1 - Exemplo 1\n",
        "\n",
        "# Função - Cálculo da Área\n",
        "\n",
        "def calc_area (h):\n",
        "\n",
        "  p = 100\n",
        "\n",
        "  return (p/2-h) * h"
      ]
    },
    {
      "cell_type": "code",
      "source": [
        "# Testando a Função\n",
        "\n",
        "print (calc_area(10))"
      ],
      "metadata": {
        "colab": {
          "base_uri": "https://localhost:8080/"
        },
        "id": "jZnrWgVWRe1W",
        "outputId": "35b7c9b8-646b-429d-f287-77a65428660f"
      },
      "execution_count": 4,
      "outputs": [
        {
          "output_type": "stream",
          "name": "stdout",
          "text": [
            "400.0\n"
          ]
        }
      ]
    },
    {
      "cell_type": "code",
      "source": [
        "# Função - Algoritmo Heurístico de Maximização\n",
        "def dummy (a, b, e) :\n",
        "  x = a\n",
        "  f_star = calc_area(x)\n",
        "  x_star = x\n",
        "\n",
        "  while x < b :\n",
        "    x = x + e\n",
        "    f = calc_area(x)\n",
        "\n",
        "    if f > f_star :\n",
        "      f_star = f\n",
        "      x_star = x\n",
        "\n",
        "  print ('Area Máxima', f_star, 'Dada a Altura:', x_star)"
      ],
      "metadata": {
        "id": "zACn7HmRRscQ"
      },
      "execution_count": 6,
      "outputs": []
    },
    {
      "cell_type": "code",
      "source": [
        "# Rodando o Algoritmo Heurístico\n",
        "# Sendo a = 0 | b = 100 | e = 0.5\n",
        "\n",
        "dummy(0,100,0.5)"
      ],
      "metadata": {
        "colab": {
          "base_uri": "https://localhost:8080/"
        },
        "id": "JICp-FwOSBVB",
        "outputId": "2643c958-58eb-43d2-c50a-6c9d746a187d"
      },
      "execution_count": 7,
      "outputs": [
        {
          "output_type": "stream",
          "name": "stdout",
          "text": [
            "Area Máxima 625.0 Dada a Altura: 25.0\n"
          ]
        }
      ]
    }
  ]
}